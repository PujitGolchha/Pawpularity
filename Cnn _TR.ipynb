{
 "cells": [
  {
   "cell_type": "code",
   "execution_count": null,
   "metadata": {
    "id": "eQKhABGnX0vy"
   },
   "outputs": [],
   "source": [
    "from google.colab import drive\n",
    "drive.mount('/content/drive')"
   ]
  },
  {
   "cell_type": "markdown",
   "metadata": {
    "id": "_in33Toft9kD"
   },
   "source": [
    "# Importing  and installing packages"
   ]
  },
  {
   "cell_type": "code",
   "execution_count": null,
   "metadata": {
    "id": "it4WdND-AcG-"
   },
   "outputs": [],
   "source": [
    "!pip install keras-tuner\n",
    "import keras_tuner as kt"
   ]
  },
  {
   "cell_type": "code",
   "execution_count": null,
   "metadata": {
    "id": "bsSVrjHjXklN"
   },
   "outputs": [],
   "source": [
    "import cv2\n",
    "import matplotlib.pyplot as plt\n",
    "import numpy as np\n",
    "import pandas as pd\n",
    "import random\n",
    "import matplotlib.patches as patches\n",
    "from pathlib import Path\n",
    "import sklearn\n",
    "from sklearn.cluster import KMeans\n",
    "from sklearn.decomposition import PCA\n",
    "from sklearn.model_selection import train_test_split\n",
    "from keras.preprocessing.image import ImageDataGenerator\n",
    "from skimage import exposure\n",
    "import tensorflow as tf\n",
    "from PIL import Image\n",
    "from progressbar import ProgressBar\n",
    "from google.colab.patches import cv2_imshow\n",
    "import os\n",
    "from tqdm import tqdm\n",
    "from sklearn.preprocessing import StandardScaler\n",
    "from sklearn.ensemble import RandomForestRegressor\n",
    "from keras.utils.vis_utils import plot_model"
   ]
  },
  {
   "cell_type": "code",
   "execution_count": null,
   "metadata": {
    "id": "j-8bcqhkOiW5"
   },
   "outputs": [],
   "source": [
    "tqdm.pandas(desc=\"my bar!\")"
   ]
  },
  {
   "cell_type": "markdown",
   "metadata": {
    "id": "8Se49HS_Ex5U"
   },
   "source": [
    "# Preprocessing"
   ]
  },
  {
   "cell_type": "code",
   "execution_count": null,
   "metadata": {
    "id": "1Hk4EOQhvR9y"
   },
   "outputs": [],
   "source": [
    "train_data=pd.read_csv(\"/content/drive/MyDrive/Pawpularity/train.csv\")"
   ]
  },
  {
   "cell_type": "code",
   "execution_count": null,
   "metadata": {
    "id": "Xlgn44Ot9QlK"
   },
   "outputs": [],
   "source": [
    "#creating a function to read an image and output its width, height and size in bytes\n",
    "def image_size(path): \n",
    "    img=Image.open(path)\n",
    "    return pd.Series([img.size[0], img.size[1], os.path.getsize(path)])"
   ]
  },
  {
   "cell_type": "code",
   "execution_count": null,
   "metadata": {
    "id": "4nZgKiC59eTr"
   },
   "outputs": [],
   "source": [
    "#Getting the width, height and size in bytes of all images\n",
    "paths=\"/content/drive/MyDrive/Pawpularity/train/\"+train_data['Id']\n",
    "pbar = ProgressBar()\n",
    "image_sizes=[]\n",
    "for p in pbar(paths):\n",
    "  image_sizes.append(image_size(p))"
   ]
  },
  {
   "cell_type": "code",
   "execution_count": null,
   "metadata": {
    "id": "HyfQtY6m9reo"
   },
   "outputs": [],
   "source": [
    "#Creating a dataframe with the width, height and size in bytes of all images\n",
    "Images=pd.DataFrame(image_sizes)\n",
    "Images=Images.rename(columns={0: \"Width\", 1: \"Height\", 2: \"Size\"}, errors=\"raise\")\n",
    "Images[\"Id\"]=train_data[\"Id\"]\n",
    "Images.head()\n",
    "Images.to_csv(\"/content/drive/MyDrive/Pawpularity/Imagesizes.csv\")"
   ]
  },
  {
   "cell_type": "code",
   "execution_count": null,
   "metadata": {
    "id": "8mT933ftAtf1"
   },
   "outputs": [],
   "source": [
    "train_data['Id']=train_data['Id'] +\".jpg\""
   ]
  },
  {
   "cell_type": "code",
   "execution_count": null,
   "metadata": {
    "id": "X2OSBprVvfjN"
   },
   "outputs": [],
   "source": [
    "train_data,test_data=train_test_split(train_data,test_size=0.1,random_state=32)\n",
    "train, valid = train_test_split(train_data, test_size=0.1)"
   ]
  },
  {
   "cell_type": "code",
   "execution_count": null,
   "metadata": {
    "id": "ZVzfdtRVTiXO"
   },
   "outputs": [],
   "source": [
    "datagen = ImageDataGenerator(rescale = 1./255,\n",
    "                                   zoom_range = 0.5,\n",
    "                                   rotation_range=45,\n",
    "                                   width_shift_range=.15,\n",
    "                                   height_shift_range=.15,\n",
    "                                   horizontal_flip = True)\n",
    "datagen1 = ImageDataGenerator(rescale = 1./255)"
   ]
  },
  {
   "cell_type": "code",
   "execution_count": null,
   "metadata": {
    "id": "KvB1xIUl9G01"
   },
   "outputs": [],
   "source": [
    "Metacolumns = [\n",
    "    'Subject Focus',\n",
    "    'Eyes',\n",
    "    'Face',\n",
    "    'Near',\n",
    "    'Action',\n",
    "    'Accessory',\n",
    "    'Group',\n",
    "    'Collage',\n",
    "    'Human',\n",
    "    'Occlusion',\n",
    "    'Info',\n",
    "    'Blur',\n",
    "    'Width', \n",
    "    'Height', \n",
    "    'Size'\n",
    "]"
   ]
  },
  {
   "cell_type": "markdown",
   "metadata": {
    "id": "MffqVsoY7E3G"
   },
   "source": [
    "# Convolution Neural Network"
   ]
  },
  {
   "cell_type": "code",
   "execution_count": null,
   "metadata": {
    "id": "yoW3BpLx1e8g"
   },
   "outputs": [],
   "source": [
    "# Creating a Cnn Model with input image size of (128,128,3)\n",
    "target=(128,128)\n",
    "model = tf.keras.models.Sequential([\n",
    "  tf.keras.layers.Conv2D(32, (3,3), activation='relu', input_shape=(128, 128, 3)),\n",
    "  tf.keras.layers.Conv2D(16, (3, 3), activation = 'relu'),\n",
    "  tf.keras.layers.Conv2D(16, (3, 3), activation = 'relu'),\n",
    "  tf.keras.layers.MaxPooling2D(2, 2),\n",
    "  tf.keras.layers.Flatten(),\n",
    "  tf.keras.layers.Dense(256, activation='relu'),\n",
    "  tf.keras.layers.Dense(1,activation=\"linear\")\n",
    "])"
   ]
  },
  {
   "cell_type": "code",
   "execution_count": null,
   "metadata": {
    "id": "DC5W39tdo35E"
   },
   "outputs": [],
   "source": [
    "model.compile(optimizer=tf.keras.optimizers.Adam(learning_rate=0.01), loss='mean_squared_error', metrics=['mean_squared_error'])"
   ]
  },
  {
   "cell_type": "code",
   "execution_count": null,
   "metadata": {
    "id": "yz-Qv0wNSPZV"
   },
   "outputs": [],
   "source": [
    "#Generating batches of Images\n",
    "x_train=datagen.flow_from_dataframe(dataframe=train,\n",
    "                                              directory=\"/content/drive/MyDrive/Pawpularity/train\",\n",
    "                                              x_col=\"Id\",\n",
    "                                              y_col=\"Pawpularity\",\n",
    "                                              weight_col=None,\n",
    "                                              target_size=target,\n",
    "                                              color_mode=\"rgb\",\n",
    "                                              class_mode=\"raw\",\n",
    "                                              batch_size=100)\n",
    "x_valid=datagen1.flow_from_dataframe(dataframe=valid,\n",
    "                                              directory=\"/content/drive/MyDrive/Pawpularity/train\",\n",
    "                                              x_col=\"Id\",\n",
    "                                              y_col=\"Pawpularity\",\n",
    "                                              weight_col=None,\n",
    "                                              target_size=target,\n",
    "                                              color_mode=\"rgb\",\n",
    "                                              class_mode=\"raw\",\n",
    "                                              batch_size=100)\n",
    "x_test=datagen1.flow_from_dataframe(dataframe=test_data,\n",
    "                                              directory=\"/content/drive/MyDrive/Pawpularity/train\",\n",
    "                                              x_col=\"Id\",\n",
    "                                              y_col=None,\n",
    "                                              weight_col=None,\n",
    "                                              target_size=target,\n",
    "                                              color_mode=\"rgb\",\n",
    "                                              class_mode=None,\n",
    "                                              batch_size=100)"
   ]
  },
  {
   "cell_type": "markdown",
   "metadata": {
    "id": "aPZOSluoatI6"
   },
   "source": [
    "Normal Fitting"
   ]
  },
  {
   "cell_type": "code",
   "execution_count": null,
   "metadata": {
    "id": "z3Zg1VCDaWqU"
   },
   "outputs": [],
   "source": [
    "checkpoint_filepath = '/content/drive/MyDrive/Pawpularity/checkpointCnn'\n",
    "model_checkpoint_callback = [tf.keras.callbacks.ModelCheckpoint(\n",
    "    filepath=checkpoint_filepath,\n",
    "    save_weights_only=True,\n",
    "    monitor='val_mean_squared_error',\n",
    "    mode='min',\n",
    "    save_best_only=True),\n",
    "    tf.keras.callbacks.EarlyStopping(monitor='val_mean_squared_error', patience=2, mode='min', min_delta=0.01)]"
   ]
  },
  {
   "cell_type": "code",
   "execution_count": null,
   "metadata": {
    "id": "eJv_q6kMahS4"
   },
   "outputs": [],
   "source": [
    "model.fit(x_train,epochs=10,validation_data=x_valid,callbacks=[model_checkpoint_callback])"
   ]
  },
  {
   "cell_type": "code",
   "execution_count": null,
   "metadata": {
    "id": "-6fm7V-kamtV"
   },
   "outputs": [],
   "source": [
    "y_test=test_data[\"Pawpularity\"]\n",
    "y_test_pred=model.predict(x_test)"
   ]
  },
  {
   "cell_type": "code",
   "execution_count": null,
   "metadata": {
    "id": "2a7L13ojaqBi"
   },
   "outputs": [],
   "source": [
    "np.sqrt(sklearn.metrics.mean_squared_error(y_test,y_test_pred))"
   ]
  },
  {
   "cell_type": "markdown",
   "metadata": {
    "id": "qZapulgL7c7U"
   },
   "source": [
    " K fold Cross Validation "
   ]
  },
  {
   "cell_type": "code",
   "execution_count": null,
   "metadata": {
    "id": "PWwslryw7a04"
   },
   "outputs": [],
   "source": [
    "#Creating a K fold instance which splits the training set into 5 splits \n",
    "from sklearn.model_selection import KFold\n",
    "K = 5\n",
    "kf = KFold(n_splits = K, random_state = 42, shuffle = True)"
   ]
  },
  {
   "cell_type": "code",
   "execution_count": null,
   "metadata": {
    "id": "7pbn2o-37a04"
   },
   "outputs": [],
   "source": [
    "checkpoint_filepath = '/content/drive/MyDrive/Pawpularity/checkpointCNN'\n",
    "model_checkpoint_callback = [tf.keras.callbacks.ModelCheckpoint(\n",
    "    filepath=checkpoint_filepath,\n",
    "    save_weights_only=True,\n",
    "    monitor='val_mean_squared_error',\n",
    "    mode='min',\n",
    "    save_best_only=True),\n",
    "    tf.keras.callbacks.EarlyStopping(monitor='val_mean_squared_error', patience=2, mode='min', min_delta=0.01)]\n",
    "result={}\n",
    "j=1\n",
    "for train_index, valid_index in kf.split(train_data):\n",
    "  # Create data for this fold\n",
    "  print( \"\\nFold \", j)\n",
    "  x_train=datagen.flow_from_dataframe(dataframe=train_data.iloc[train_index,:],\n",
    "                                            directory=\"/content/drive/MyDrive/Pawpularity/train\",\n",
    "                                            x_col=\"Id\",\n",
    "                                            y_col=\"Pawpularity\",\n",
    "                                            weight_col=None,\n",
    "                                            color_mode=\"rgb\",\n",
    "                                            target_size=target,\n",
    "                                            class_mode=\"raw\",\n",
    "                                            batch_size=100)\n",
    "  x_valid=datagen1.flow_from_dataframe(dataframe=train_data.iloc[valid_index,:],\n",
    "                                            directory=\"/content/drive/MyDrive/Pawpularity/train\",\n",
    "                                            x_col=\"Id\",\n",
    "                                            y_col=\"Pawpularity\",\n",
    "                                            weight_col=None,\n",
    "                                            color_mode=\"rgb\",\n",
    "                                            class_mode=\"raw\",\n",
    "                                            target_size=target,\n",
    "                                            batch_size=100)\n",
    "  model.fit(x_train,epochs=5,validation_data=x_valid,callbacks=[model_checkpoint_callback])\n",
    "  # Accumulate test set predictions\n",
    "  j+=1\n",
    "  result[j]=model.predict(x_test)"
   ]
  },
  {
   "cell_type": "code",
   "execution_count": null,
   "metadata": {
    "id": "CgusPVZK7a04"
   },
   "outputs": [],
   "source": [
    "y_test=test_data[\"Pawpularity\"]\n",
    "y_test_pred=model.predict(x_test)"
   ]
  },
  {
   "cell_type": "code",
   "execution_count": null,
   "metadata": {
    "id": "H2QYH49d7a04"
   },
   "outputs": [],
   "source": [
    "np.sqrt(sklearn.metrics.mean_squared_error(y_test,y_test_pred))"
   ]
  },
  {
   "cell_type": "markdown",
   "metadata": {
    "id": "gdSJQYgcqOLd"
   },
   "source": [
    "# Transfer learning "
   ]
  },
  {
   "cell_type": "code",
   "execution_count": null,
   "metadata": {
    "id": "W-RdoHxvb7UD"
   },
   "outputs": [],
   "source": [
    "# Loading the InceptionResNetV2 Model and specfing that only the last 10 layers of this model are trainable for our dataset \n",
    "target=(299,299)\n",
    "base_model = tf.keras.applications.InceptionResNetV2(include_top=False,weights='imagenet',input_shape=(299,299,3))\n",
    "for layer in base_model.layers[:-10]:\n",
    "    layer.trainable = False"
   ]
  },
  {
   "cell_type": "code",
   "execution_count": null,
   "metadata": {
    "id": "Ax2gbmH5lsQk"
   },
   "outputs": [],
   "source": [
    "# Loading the NASNetLarge Model and specfing that only the last 10 layers of this model are trainable for our dataset\n",
    "target=(331,331)\n",
    "base_model = tf.keras.applications.NASNetLarge(include_top=False,weights='imagenet')\n",
    "for layer in base_model.layers[:-10]:\n",
    "    layer.trainable = False"
   ]
  },
  {
   "cell_type": "code",
   "execution_count": null,
   "metadata": {
    "id": "QrZl7WirYaeX"
   },
   "outputs": [],
   "source": [
    "# Loading the EfficientNetB1 Model and specfing that only the last 10 layers of this model are trainable for our dataset\n",
    "target=(128,128)\n",
    "base_model=tf.keras.applications.EfficientNetB1(include_top=True,weights=\"imagenet\")\n",
    "for layer in base_model.layers[:-10]:\n",
    "    layer.trainable = False"
   ]
  },
  {
   "cell_type": "code",
   "execution_count": null,
   "metadata": {
    "id": "veMLcP2N6UtA"
   },
   "outputs": [],
   "source": [
    "x_train=datagen.flow_from_dataframe(dataframe=train,\n",
    "                                              directory=\"/content/drive/MyDrive/Pawpularity/train\",\n",
    "                                              x_col=\"Id\",\n",
    "                                              y_col=\"Pawpularity\",\n",
    "                                              weight_col=None,\n",
    "                                              target_size=target,\n",
    "                                              color_mode=\"rgb\",\n",
    "                                              class_mode=\"raw\",\n",
    "                                              batch_size=100)\n",
    "x_valid=datagen1.flow_from_dataframe(dataframe=valid,\n",
    "                                              directory=\"/content/drive/MyDrive/Pawpularity/train\",\n",
    "                                              x_col=\"Id\",\n",
    "                                              y_col=\"Pawpularity\",\n",
    "                                              weight_col=None,\n",
    "                                              target_size=target,\n",
    "                                              color_mode=\"rgb\",\n",
    "                                              class_mode=\"raw\",\n",
    "                                              batch_size=100)\n",
    "x_test=datagen1.flow_from_dataframe(dataframe=test_data,\n",
    "                                              directory=\"/content/drive/MyDrive/Pawpularity/train\",\n",
    "                                              x_col=\"Id\",\n",
    "                                              y_col=None,\n",
    "                                              weight_col=None,\n",
    "                                              target_size=target,\n",
    "                                              color_mode=\"rgb\",\n",
    "                                              class_mode=None,\n",
    "                                              batch_size=100)"
   ]
  },
  {
   "cell_type": "code",
   "execution_count": null,
   "metadata": {
    "id": "-dM1y_48cMVB"
   },
   "outputs": [],
   "source": [
    "# Creating a new model with the pretrained model plus some extra new layers\n",
    "# This model works with the InceptionResNetV2 and NASNetLarge Model as the pretrained models \n",
    "model = tf.keras.models.Sequential([base_model,tf.keras.layers.Conv2D(32, (3,3), activation='relu'),\n",
    "  tf.keras.layers.Conv2D(16, (3, 3), activation = 'relu'),\n",
    "  tf.keras.layers.MaxPooling2D(2, 2),\n",
    "  tf.keras.layers.Flatten(),\n",
    "  tf.keras.layers.Dense(256, activation='relu'),\n",
    "  tf.keras.layers.Dense(1,activation=\"linear\")])"
   ]
  },
  {
   "cell_type": "code",
   "execution_count": null,
   "metadata": {
    "id": "Zi1W2on1cM_W"
   },
   "outputs": [],
   "source": [
    "# Creating a new model with the pretrained model plus some extra new layers\n",
    "# This model works with the EfficientNetB1 as the pretrained model \n",
    "model = tf.keras.models.Sequential([base_model,\n",
    "  tf.keras.layers.Dense(256, activation='relu'),\n",
    "  tf.keras.layers.Dense(1,activation=\"linear\")])"
   ]
  },
  {
   "cell_type": "code",
   "execution_count": null,
   "metadata": {
    "id": "O4HZEhh_rEBE"
   },
   "outputs": [],
   "source": [
    "model.compile(optimizer=tf.keras.optimizers.Adam(learning_rate=0.01), loss='mean_squared_error', metrics=['mean_squared_error'])"
   ]
  },
  {
   "cell_type": "markdown",
   "metadata": {
    "id": "ET0Ks6g7bDUS"
   },
   "source": [
    "Normal Fitting"
   ]
  },
  {
   "cell_type": "code",
   "execution_count": null,
   "metadata": {
    "id": "uM6sfiTabDUS"
   },
   "outputs": [],
   "source": [
    "checkpoint_filepath = '/content/drive/MyDrive/Pawpularity/checkpointEfficientNetB1'\n",
    "model_checkpoint_callback = [tf.keras.callbacks.ModelCheckpoint(\n",
    "    filepath=checkpoint_filepath,\n",
    "    save_weights_only=True,\n",
    "    monitor='val_mean_squared_error',\n",
    "    mode='min',\n",
    "    save_best_only=True),\n",
    "    tf.keras.callbacks.EarlyStopping(monitor='val_mean_squared_error', patience=2, mode='min', min_delta=0.01)]"
   ]
  },
  {
   "cell_type": "code",
   "execution_count": null,
   "metadata": {
    "id": "FtqjfB1PbDUS"
   },
   "outputs": [],
   "source": [
    "model.fit(x_train,epochs=10,validation_data=x_valid,callbacks=[model_checkpoint_callback])"
   ]
  },
  {
   "cell_type": "code",
   "execution_count": null,
   "metadata": {
    "id": "Jgk7P2ycbDUS"
   },
   "outputs": [],
   "source": [
    "y_test=test_data[\"Pawpularity\"]\n",
    "y_test_pred=model.predict(x_test)"
   ]
  },
  {
   "cell_type": "code",
   "execution_count": null,
   "metadata": {
    "id": "HOThvgmRbDUS"
   },
   "outputs": [],
   "source": [
    "np.sqrt(sklearn.metrics.mean_squared_error(y_test,y_test_pred))"
   ]
  },
  {
   "cell_type": "markdown",
   "metadata": {
    "id": "L45KmpXXfApB"
   },
   "source": [
    " K fold Cross Validation "
   ]
  },
  {
   "cell_type": "code",
   "execution_count": null,
   "metadata": {
    "id": "OWiR4VtupXid"
   },
   "outputs": [],
   "source": [
    "#Creating a K fold instance which splits the training set into 5 splits \n",
    "from sklearn.model_selection import KFold\n",
    "K = 5\n",
    "kf = KFold(n_splits = K, random_state = 42, shuffle = True)"
   ]
  },
  {
   "cell_type": "code",
   "execution_count": null,
   "metadata": {
    "id": "DlwbOkt1GJHD"
   },
   "outputs": [],
   "source": [
    "checkpoint_filepath = '/content/drive/MyDrive/Pawpularity/checkpointEfficientNetB1\"\n",
    "model_checkpoint_callback = tf.keras.callbacks.ModelCheckpoint(\n",
    "    filepath=checkpoint_filepath,\n",
    "    save_weights_only=True,\n",
    "    monitor='val_mean_squared_error',\n",
    "    mode='min',\n",
    "    save_best_only=True)\n",
    "result={}\n",
    "j=1\n",
    "for train_index, valid_index in kf.split(train_data):\n",
    "  # Create data for this fold\n",
    "  print( \"\\nFold \", j)\n",
    "  x_train=datagen.flow_from_dataframe(dataframe=train_data.iloc[train_index,:],\n",
    "                                            directory=\"/content/drive/MyDrive/Pawpularity/train\",\n",
    "                                            x_col=\"Id\",\n",
    "                                            y_col=\"Pawpularity\",\n",
    "                                            weight_col=None,\n",
    "                                            color_mode=\"rgb\",\n",
    "                                            target_size=target,\n",
    "                                            class_mode=\"raw\",\n",
    "                                            batch_size=100)\n",
    "  x_valid=datagen1.flow_from_dataframe(dataframe=train_data.iloc[valid_index,:],\n",
    "                                            directory=\"/content/drive/MyDrive/Pawpularity/train\",\n",
    "                                            x_col=\"Id\",\n",
    "                                            y_col=\"Pawpularity\",\n",
    "                                            weight_col=None,\n",
    "                                            color_mode=\"rgb\",\n",
    "                                            class_mode=\"raw\",\n",
    "                                            target_size=target,\n",
    "                                            batch_size=100)\n",
    "  model.fit(x_train,epochs=5,validation_data=x_valid,callbacks=[model_checkpoint_callback])\n",
    "  # Accumulate test set predictions\n",
    "  j+=1\n",
    "  result[j]=model.predict(x_test)"
   ]
  },
  {
   "cell_type": "code",
   "execution_count": null,
   "metadata": {
    "id": "YqqdMyyZP7sv"
   },
   "outputs": [],
   "source": [
    "y_test=test_data[\"Pawpularity\"]\n",
    "y_test_pred=model.predict(x_test)"
   ]
  },
  {
   "cell_type": "code",
   "execution_count": null,
   "metadata": {
    "id": "C-6a53MWmEca"
   },
   "outputs": [],
   "source": [
    "np.sqrt(sklearn.metrics.mean_squared_error(y_test,y_test_pred))"
   ]
  },
  {
   "cell_type": "markdown",
   "metadata": {
    "id": "BHSPQFsbfGeD"
   },
   "source": [
    "# Meta + Image"
   ]
  },
  {
   "cell_type": "code",
   "execution_count": null,
   "metadata": {
    "id": "4npZE-QbNIOb"
   },
   "outputs": [],
   "source": [
    "Meta=pd.read_csv(\"/content/drive/MyDrive/Pawpularity/Imagesizes.csv\")\n",
    "Meta['Id']=Meta['Id'] +\".jpg\"\n",
    "Meta=Meta[['Id','Width', 'Height', 'Size']]"
   ]
  },
  {
   "cell_type": "code",
   "execution_count": null,
   "metadata": {
    "id": "oJBz4KWZv51p"
   },
   "outputs": [],
   "source": [
    "train_data=pd.merge(train_data,Meta,on=['Id'],how=\"inner\")\n",
    "test_data=pd.merge(test_data,Meta,on=['Id'],how=\"inner\")"
   ]
  },
  {
   "cell_type": "code",
   "execution_count": null,
   "metadata": {
    "id": "3ahKG_pgcfn5"
   },
   "outputs": [],
   "source": [
    "scaler = StandardScaler()\n",
    "train_data[[\"Width\",\"Height\",\"Size\"]] = scaler.fit_transform(train_data[[\"Width\",\"Height\",\"Size\"]])\n",
    "test_data[[\"Width\",\"Height\",\"Size\"]] = scaler.transform(test_data[[\"Width\",\"Height\",\"Size\"]])"
   ]
  },
  {
   "cell_type": "code",
   "execution_count": null,
   "metadata": {
    "id": "YtU3CieJdiWx"
   },
   "outputs": [],
   "source": [
    "k = KMeans(8, random_state=0)\n",
    "train_data['cluster'] = k.fit_predict(train_data.drop(['Id', 'Pawpularity'], axis=1))\n",
    "test_data['cluster'] = k.predict(test_data.drop(['Id', 'Pawpularity'], axis=1))"
   ]
  },
  {
   "cell_type": "code",
   "execution_count": null,
   "metadata": {
    "id": "tPySU-n1XwXd"
   },
   "outputs": [],
   "source": [
    "p = PCA(random_state=0)\n",
    "train_data_pca =pd.DataFrame(p.fit_transform(train_data.drop(['Id', 'Pawpularity'], axis=1)))\n",
    "test_data_pca =pd.DataFrame(p.transform(test_data.drop(['Id', 'Pawpularity'], axis=1)))"
   ]
  },
  {
   "cell_type": "code",
   "execution_count": null,
   "metadata": {
    "id": "yrUd2V22akCJ"
   },
   "outputs": [],
   "source": [
    "train_data=pd.concat([train_data.reset_index(drop=True),train_data_pca.reset_index(drop=True)],axis=1)\n",
    "test_data=pd.concat([test_data.reset_index(drop=True),test_data_pca.reset_index(drop=True)],axis=1)"
   ]
  },
  {
   "cell_type": "code",
   "execution_count": null,
   "metadata": {
    "id": "Sccoc1e1CXs8"
   },
   "outputs": [],
   "source": [
    "train, valid = train_test_split(train_data, test_size=0.1)"
   ]
  },
  {
   "cell_type": "code",
   "execution_count": null,
   "metadata": {
    "id": "3BBmIocwS9iA"
   },
   "outputs": [],
   "source": [
    "input_picture = tf.keras.Input(shape=(128,128,3))\n",
    "input_meta = tf.keras.Input((32,))\n",
    "base_model=tf.keras.applications.EfficientNetB1(include_top=True,input_tensor=input_picture,weights=\"imagenet\")\n",
    "for layer in base_model.layers[:-10]:\n",
    "    layer.trainable = False\n",
    "x = tf.keras.layers.Dense(256, activation='relu')(base_model.output)\n",
    "x=tf.concat([x,input_meta],axis=1)\n",
    "output=tf.keras.layers.Dense(1,activation=\"linear\")(x)\n",
    "model = tf.keras.Model(inputs=[input_picture,input_meta], outputs=output)"
   ]
  },
  {
   "cell_type": "code",
   "execution_count": null,
   "metadata": {
    "id": "RsAkLZikoc2_"
   },
   "outputs": [],
   "source": [
    "model.compile(optimizer=tf.keras.optimizers.Adam(learning_rate=0.01), loss='mean_squared_error', metrics=['mean_squared_error'])"
   ]
  },
  {
   "cell_type": "code",
   "execution_count": null,
   "metadata": {
    "id": "S39RkWhKmzQI"
   },
   "outputs": [],
   "source": [
    "# Custom data generator for generating batches of images and metadata\n",
    "class CustomDataGen(tf.keras.utils.Sequence):\n",
    "  def __init__(self, df, X_col, y_col,\n",
    "                batch_size,img_size=(128,128),\n",
    "                shuffle=True, testing_set=False):  \n",
    "    self.df = df.copy()\n",
    "    self.df[\"Id\"]=\"/content/drive/MyDrive/Pawpularity/train/\"+self.df[\"Id\"]\n",
    "    self.X_col = X_col\n",
    "    self.y_col = y_col\n",
    "    self.batch_size = batch_size\n",
    "    self.shuffle = shuffle \n",
    "    self.n = len(self.df)\n",
    "    self.testing_set=testing_set\n",
    "    self.img_size=img_size\n",
    "  \n",
    "  def __get_input(self, path):\n",
    "    image=tf.keras.utils.load_img(str(path), color_mode='rgb',target_size=self.img_size,interpolation='nearest')\n",
    "    if self.testing_set:\n",
    "      image = tf.keras.preprocessing.image.img_to_array(image)/255\n",
    "    else:\n",
    "      image=tf.keras.applications.efficientnet.preprocess_input(image)\n",
    "      image = tf.keras.preprocessing.image.img_to_array(image)/255\n",
    "      # image = tf.image.random_hue(image, 0.05)\n",
    "      # image = tf.image.random_contrast(image, 0.95, 1.05)\n",
    "      # image = tf.image.random_brightness(image, 0.05)\n",
    "    return image\n",
    "  \n",
    "  def __get_data(self, batches):\n",
    "    # Generates data containing batch_size samples\n",
    "    path = batches[self.X_col['Id']]\n",
    "    y_batch= np.asarray(batches[self.y_col['Pawpularity']])\n",
    "    X_batch = np.asarray([self.__get_input(x) for x in path])\n",
    "    meta_batch=np.asarray(batches.drop(['Id', 'Pawpularity'], axis=1))\n",
    "    return tuple([X_batch, meta_batch]),y_batch\n",
    "  \n",
    "  def on_epoch_end(self):\n",
    "    if self.shuffle:\n",
    "      self.df = self.df.sample(frac=1).reset_index(drop=True)\n",
    "  \n",
    "  def __getitem__(self, index):\n",
    "    batches = self.df[index * self.batch_size:(index + 1) * self.batch_size]\n",
    "    X, y = self.__get_data(batches)        \n",
    "    return X, y\n",
    "  \n",
    "  def __len__(self):\n",
    "    return self.n // self.batch_size"
   ]
  },
  {
   "cell_type": "code",
   "execution_count": null,
   "metadata": {
    "id": "Z67g1-wZ5bfV"
   },
   "outputs": [],
   "source": [
    "#creating the test set i.e. an input tuple of image and metadata of the test set\n",
    "def get_input(path):\n",
    "  path=\"/content/drive/MyDrive/Pawpularity/train/\"+path\n",
    "  image=tf.keras.utils.load_img(str(path), color_mode='rgb',target_size=(128,128),interpolation='nearest')\n",
    "  image = tf.keras.preprocessing.image.img_to_array(image)/255\n",
    "  return image\n",
    "x_test=(test_data.iloc[:,0]).progress_apply(get_input)\n",
    "x_test=np.stack(x_test).astype(None)\n",
    "x_test_meta=np.asarray(test_data.drop(['Id', 'Pawpularity'], axis=1))\n",
    "testset=tuple([x_test, x_test_meta])"
   ]
  },
  {
   "cell_type": "code",
   "execution_count": null,
   "metadata": {
    "id": "tQsDPd-lCgA8"
   },
   "outputs": [],
   "source": [
    "x_train = CustomDataGen(train,\n",
    "                         X_col={'Id':'Id'},\n",
    "                         y_col={'Pawpularity':'Pawpularity'},\n",
    "                         batch_size=100)\n",
    "x_valid= CustomDataGen(valid,\n",
    "                         X_col={'Id':'Id'},\n",
    "                         y_col={'Pawpularity':'Pawpularity'},\n",
    "                         batch_size=100,testing_set=True)"
   ]
  },
  {
   "cell_type": "markdown",
   "metadata": {
    "id": "vxnyZQF4bMia"
   },
   "source": [
    "Normal Fitting"
   ]
  },
  {
   "cell_type": "code",
   "execution_count": null,
   "metadata": {
    "id": "FkebYh1ebMia"
   },
   "outputs": [],
   "source": [
    "checkpoint_filepath = '/content/drive/MyDrive/Pawpularity/pretrainedEfficientNetB1+meta'\n",
    "model_checkpoint_callback = [tf.keras.callbacks.ModelCheckpoint(\n",
    "    filepath=checkpoint_filepath,\n",
    "    save_weights_only=True,\n",
    "    monitor='val_mean_squared_error',\n",
    "    mode='min',\n",
    "    save_best_only=True),\n",
    "    tf.keras.callbacks.EarlyStopping(monitor='val_mean_squared_error', patience=2, mode='min', min_delta=0.01)]"
   ]
  },
  {
   "cell_type": "code",
   "execution_count": null,
   "metadata": {
    "id": "cm1OZGU3bMia"
   },
   "outputs": [],
   "source": [
    "model.fit(x_train,epochs=10,validation_data=x_valid,callbacks=[model_checkpoint_callback])"
   ]
  },
  {
   "cell_type": "code",
   "execution_count": null,
   "metadata": {
    "id": "I37w_RdPbMib"
   },
   "outputs": [],
   "source": [
    "y_test=test_data[\"Pawpularity\"]\n",
    "y_test_pred=model.predict(testset)"
   ]
  },
  {
   "cell_type": "code",
   "execution_count": null,
   "metadata": {
    "id": "Emy4q4hYbMib"
   },
   "outputs": [],
   "source": [
    "np.sqrt(sklearn.metrics.mean_squared_error(y_test,y_test_pred))"
   ]
  },
  {
   "cell_type": "markdown",
   "metadata": {
    "id": "pqNoezMSxl7r"
   },
   "source": [
    "K fold Cross Validation"
   ]
  },
  {
   "cell_type": "code",
   "execution_count": null,
   "metadata": {
    "id": "fMahJwuDpeDV"
   },
   "outputs": [],
   "source": [
    "from sklearn.model_selection import KFold\n",
    "K = 5\n",
    "kf = KFold(n_splits = K, random_state = 42, shuffle = True)\n",
    "\n",
    "checkpoint_filepath = '/content/drive/MyDrive/Pawpularity/pretrainedEfficientNetB1+meta'\n",
    "model_checkpoint_callback = tf.keras.callbacks.ModelCheckpoint(\n",
    "    filepath=checkpoint_filepath,\n",
    "    save_weights_only=False,\n",
    "    monitor=\"val_root_mean_squared_error\",\n",
    "    mode='min',\n",
    "    save_best_only=True)\n",
    "result={}\n",
    "j=1\n",
    "for train_index, valid_index in kf.split(train_data):\n",
    "  # Create data for this fold\n",
    "  print( \"\\nFold \", j)\n",
    "  traingen = CustomDataGen(train_data.iloc[train_index,:],\n",
    "                         X_col={'Id':'Id'},\n",
    "                         y_col={'Pawpularity':'Pawpularity'},\n",
    "                         batch_size=100)\n",
    "  valgen = CustomDataGen(train_data.iloc[valid_index,:],\n",
    "                         X_col={'Id':'Id'},\n",
    "                         y_col={'Pawpularity':'Pawpularity'},\n",
    "                         batch_size=100,testing_set=True)\n",
    "  model.fit(traingen,\n",
    "          validation_data=valgen,\n",
    "          epochs=5,callbacks=[model_checkpoint_callback])\n",
    "  j=j+1"
   ]
  },
  {
   "cell_type": "code",
   "execution_count": null,
   "metadata": {
    "id": "_wMjWyXX-l--"
   },
   "outputs": [],
   "source": [
    "y_test_pred=model.predict(testset)"
   ]
  },
  {
   "cell_type": "code",
   "execution_count": null,
   "metadata": {
    "id": "XwQLLfBHGnew"
   },
   "outputs": [],
   "source": [
    "y_test=test_data[\"Pawpularity\"]\n",
    "np.sqrt(sklearn.metrics.mean_squared_error(y_test,y_test_pred))"
   ]
  },
  {
   "cell_type": "markdown",
   "metadata": {
    "id": "ac8OVKbK8BwX"
   },
   "source": [
    "# Hyparmeter tuning for the best model (Transfer learning with EfficientNetB1)\n"
   ]
  },
  {
   "cell_type": "code",
   "execution_count": null,
   "metadata": {
    "id": "SFVJMGfQ8t2o"
   },
   "outputs": [],
   "source": [
    "target=(128,128)\n",
    "x_train=datagen.flow_from_dataframe(dataframe=train,\n",
    "                                              directory=\"/content/drive/MyDrive/Pawpularity/train\",\n",
    "                                              x_col=\"Id\",\n",
    "                                              y_col=\"Pawpularity\",\n",
    "                                              weight_col=None,\n",
    "                                              target_size=target,\n",
    "                                              color_mode=\"rgb\",\n",
    "                                              class_mode=\"raw\",\n",
    "                                              batch_size=100)\n",
    "x_valid=datagen1.flow_from_dataframe(dataframe=valid,\n",
    "                                              directory=\"/content/drive/MyDrive/Pawpularity/train\",\n",
    "                                              x_col=\"Id\",\n",
    "                                              y_col=\"Pawpularity\",\n",
    "                                              weight_col=None,\n",
    "                                              target_size=target,\n",
    "                                              color_mode=\"rgb\",\n",
    "                                              class_mode=\"raw\",\n",
    "                                              batch_size=100)"
   ]
  },
  {
   "cell_type": "code",
   "execution_count": null,
   "metadata": {
    "id": "VpYGPsFA84rZ"
   },
   "outputs": [],
   "source": [
    "x_test=datagen1.flow_from_dataframe(dataframe=test_data,\n",
    "                                              directory=\"/content/drive/MyDrive/Pawpularity/train\",\n",
    "                                              x_col=\"Id\",\n",
    "                                              y_col=None,\n",
    "                                              weight_col=None,\n",
    "                                              target_size=target,\n",
    "                                              color_mode=\"rgb\",\n",
    "                                              class_mode=None,\n",
    "                                              batch_size=100)\n"
   ]
  },
  {
   "cell_type": "code",
   "execution_count": null,
   "metadata": {
    "id": "vrPDUFmZ9iSG"
   },
   "outputs": [],
   "source": [
    "target=(128,128)\n",
    "def model_builder(hp):\n",
    "  '''\n",
    "  Args:\n",
    "    hp - Keras tuner object\n",
    "  '''\n",
    "  base_model=tf.keras.applications.EfficientNetB1(include_top=True,weights=\"imagenet\")\n",
    "  for layer in base_model.layers:\n",
    "      layer.trainable = False\n",
    "  model = tf.keras.models.Sequential()\n",
    "  model.add(base_model)\n",
    "  hp_units = hp.Int('units', min_value=32, max_value=512, step=32)\n",
    "  model.add(tf.keras.layers.Dense(units=hp_units, activation='relu'))\n",
    "  model.add(tf.keras.layers.Dense(1,activation=\"linear\"))\n",
    "  \n",
    "  # Tune the learning rate for the optimizer\n",
    "  # Choose an optimal value from 0.01, 0.001, or 0.0001\n",
    "  hp_learning_rate = hp.Choice('learning_rate', values=[1e-2, 1e-3, 1e-4])\n",
    "  model.compile(optimizer=tf.keras.optimizers.Adam(learning_rate=hp_learning_rate),loss='mean_squared_error', metrics=['mean_squared_error'])\n",
    "  return model"
   ]
  },
  {
   "cell_type": "code",
   "execution_count": null,
   "metadata": {
    "id": "kazk9pyI_GKh"
   },
   "outputs": [],
   "source": [
    "tuner = kt.Hyperband(model_builder, # the hypermodel\n",
    "                     objective='val_mean_squared_error', # objective to optimize\n",
    "max_epochs=10)"
   ]
  },
  {
   "cell_type": "code",
   "execution_count": null,
   "metadata": {
    "id": "EbfugQ-N_zQo"
   },
   "outputs": [],
   "source": [
    "stop_early = tf.keras.callbacks.EarlyStopping(monitor='val_mean_squared_error', patience=5)\n",
    "# Perform hypertuning\n",
    "tuner.search(x_train,\n",
    "             epochs=10,\n",
    "             validation_data=x_valid,callbacks=[stop_early])\n"
   ]
  },
  {
   "cell_type": "code",
   "execution_count": null,
   "metadata": {
    "id": "n6a0EKNgA5Po"
   },
   "outputs": [],
   "source": [
    "best_hp=tuner.get_best_hyperparameters()[0]"
   ]
  },
  {
   "cell_type": "code",
   "execution_count": null,
   "metadata": {
    "id": "8w3Tb5uzn3zy"
   },
   "outputs": [],
   "source": [
    "# Creating the model with the best Hyperparameters\n",
    "# This model works with the EfficientNetB1 as the pretrained model \n",
    "model = tf.keras.models.Sequential([base_model,\n",
    "  tf.keras.layers.Dense(448, activation='relu'),\n",
    "  tf.keras.layers.Dense(1,activation=\"linear\")])"
   ]
  },
  {
   "cell_type": "code",
   "execution_count": null,
   "metadata": {
    "id": "8QCvQ9GSoJEF"
   },
   "outputs": [],
   "source": [
    "model.compile(optimizer=tf.keras.optimizers.Adam(learning_rate=0.01), loss='mean_squared_error', metrics=['mean_squared_error'])"
   ]
  },
  {
   "cell_type": "markdown",
   "metadata": {
    "id": "XfUPIxqahH7N"
   },
   "source": [
    "Normal Fitting"
   ]
  },
  {
   "cell_type": "code",
   "execution_count": null,
   "metadata": {
    "id": "pK5wRRaUhH7O"
   },
   "outputs": [],
   "source": [
    "checkpoint_filepath = '/content/drive/MyDrive/Pawpularity/checkpointEfficientNetB1besthyperparameters'\n",
    "model_checkpoint_callback = [tf.keras.callbacks.ModelCheckpoint(\n",
    "    filepath=checkpoint_filepath,\n",
    "    save_weights_only=True,\n",
    "    monitor='val_mean_squared_error',\n",
    "    mode='min',\n",
    "    save_best_only=True),\n",
    "    tf.keras.callbacks.EarlyStopping(monitor='val_mean_squared_error', patience=2, mode='min', min_delta=0.01)]"
   ]
  },
  {
   "cell_type": "code",
   "execution_count": null,
   "metadata": {
    "id": "EMuZq7X9hH7O"
   },
   "outputs": [],
   "source": [
    "model.fit(x_train,epochs=10,validation_data=x_valid,callbacks=[model_checkpoint_callback])"
   ]
  },
  {
   "cell_type": "code",
   "execution_count": null,
   "metadata": {
    "id": "qGYeMZKPhH7O"
   },
   "outputs": [],
   "source": [
    "y_test=test_data[\"Pawpularity\"]\n",
    "y_test_pred=model.predict(x_test)"
   ]
  },
  {
   "cell_type": "code",
   "execution_count": null,
   "metadata": {
    "id": "e55YWg2thH7O"
   },
   "outputs": [],
   "source": [
    "np.sqrt(sklearn.metrics.mean_squared_error(y_test,y_test_pred))"
   ]
  },
  {
   "cell_type": "markdown",
   "metadata": {
    "id": "Vx2k3EyVhLpC"
   },
   "source": [
    "K fold Cross Validation"
   ]
  },
  {
   "cell_type": "code",
   "execution_count": null,
   "metadata": {
    "id": "ZOngCWvArw_k"
   },
   "outputs": [],
   "source": [
    "#Creating a K fold instance which splits the training set into 5 splits \n",
    "from sklearn.model_selection import KFold\n",
    "K = 5\n",
    "kf = KFold(n_splits = K, random_state = 42, shuffle = True)"
   ]
  },
  {
   "cell_type": "code",
   "execution_count": null,
   "metadata": {
    "id": "g9HHU4HZrw_k"
   },
   "outputs": [],
   "source": [
    "checkpoint_filepath = '/content/drive/MyDrive/Pawpularity/checkpointEfficientNetB1besthyperparameters\"\n",
    "model_checkpoint_callback = tf.keras.callbacks.ModelCheckpoint(\n",
    "    filepath=checkpoint_filepath,\n",
    "    save_weights_only=True,\n",
    "    monitor='val_mean_squared_error',\n",
    "    mode='min',\n",
    "    save_best_only=True)\n",
    "result={}\n",
    "j=1\n",
    "for train_index, valid_index in kf.split(train_data):\n",
    "  # Create data for this fold\n",
    "  x_train=datagen.flow_from_dataframe(dataframe=train_data.iloc[train_index,:],\n",
    "                                            directory=\"/content/drive/MyDrive/Pawpularity/train\",\n",
    "                                            x_col=\"Id\",\n",
    "                                            y_col=\"Pawpularity\",\n",
    "                                            weight_col=None,\n",
    "                                            color_mode=\"rgb\",\n",
    "                                            target_size=target,\n",
    "                                            class_mode=\"raw\",\n",
    "                                            batch_size=100)\n",
    "  x_valid=datagen1.flow_from_dataframe(dataframe=train_data.iloc[valid_index,:],\n",
    "                                            directory=\"/content/drive/MyDrive/Pawpularity/train\",\n",
    "                                            x_col=\"Id\",\n",
    "                                            y_col=\"Pawpularity\",\n",
    "                                            weight_col=None,\n",
    "                                            color_mode=\"rgb\",\n",
    "                                            class_mode=\"raw\",\n",
    "                                            target_size=target,\n",
    "                                            batch_size=100)\n",
    "  print( \"\\nFold \", j)\n",
    "  model.fit(x_train,epochs=5,validation_data=x_valid,callbacks=[model_checkpoint_callback])\n",
    "  # Accumulate test set predictions\n",
    "  j+=1\n",
    "  result[j]=model.predict(x_test)"
   ]
  },
  {
   "cell_type": "code",
   "execution_count": null,
   "metadata": {
    "id": "8tjfcpyZrw_k"
   },
   "outputs": [],
   "source": [
    "y_test=test_data[\"Pawpularity\"]\n",
    "y_test_pred=model.predict(x_test)"
   ]
  },
  {
   "cell_type": "code",
   "execution_count": null,
   "metadata": {
    "id": "kgLHRbYbrw_k"
   },
   "outputs": [],
   "source": [
    "np.sqrt(sklearn.metrics.mean_squared_error(y_test,y_test_pred))"
   ]
  }
 ],
 "metadata": {
  "colab": {
   "collapsed_sections": [
    "_in33Toft9kD",
    "8Se49HS_Ex5U",
    "MffqVsoY7E3G",
    "gdSJQYgcqOLd",
    "BHSPQFsbfGeD",
    "ac8OVKbK8BwX"
   ],
   "name": "Final Cnn.ipynb",
   "provenance": []
  },
  "kernelspec": {
   "display_name": "Python 3",
   "language": "python",
   "name": "python3"
  },
  "language_info": {
   "codemirror_mode": {
    "name": "ipython",
    "version": 3
   },
   "file_extension": ".py",
   "mimetype": "text/x-python",
   "name": "python",
   "nbconvert_exporter": "python",
   "pygments_lexer": "ipython3",
   "version": "3.7.1"
  }
 },
 "nbformat": 4,
 "nbformat_minor": 1
}
