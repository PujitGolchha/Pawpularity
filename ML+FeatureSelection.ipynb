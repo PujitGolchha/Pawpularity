{
 "cells": [
  {
   "cell_type": "markdown",
   "metadata": {
    "id": "bnKEb4OD7mRX"
   },
   "source": [
    "# **Pawpularity Score Prediction using Regression Models**\n"
   ]
  },
  {
   "cell_type": "markdown",
   "metadata": {
    "id": "86clqlk4V2jP"
   },
   "source": [
    "# **Importing Required Libraries**"
   ]
  },
  {
   "cell_type": "code",
   "execution_count": null,
   "metadata": {
    "id": "BOhjByGMULBq"
   },
   "outputs": [],
   "source": [
    "import numpy as np\n",
    "import pandas as pd \n",
    "\n",
    "import random \n",
    "\n",
    "from sklearn.model_selection import train_test_split \n",
    "from sklearn.ensemble import RandomForestRegressor # used for prediction \n",
    "from sklearn.model_selection import RandomizedSearchCV # hyperparameter tuning\n",
    "from sklearn.metrics import mean_squared_error\n",
    "\n",
    "import warnings\n",
    "warnings.filterwarnings(\"ignore\")"
   ]
  },
  {
   "cell_type": "markdown",
   "metadata": {
    "id": "FYz0ubYs4DxD"
   },
   "source": [
    "# **Model Validation: Holdout**"
   ]
  },
  {
   "cell_type": "code",
   "execution_count": null,
   "metadata": {
    "colab": {
     "base_uri": "https://localhost:8080/"
    },
    "id": "DGgkiPnr-Gj2",
    "outputId": "a884227b-b058-4952-f3ce-31c8248661ce"
   },
   "outputs": [
    {
     "name": "stdout",
     "output_type": "stream",
     "text": [
      "Mounted at /content/drive\n"
     ]
    }
   ],
   "source": [
    "from google.colab import drive\n",
    "drive.mount('/content/drive')"
   ]
  },
  {
   "cell_type": "code",
   "execution_count": null,
   "metadata": {
    "id": "PCQfD9_wUOD2"
   },
   "outputs": [],
   "source": [
    "data = pd.read_csv('/content/drive/MyDrive/train.csv')"
   ]
  },
  {
   "cell_type": "code",
   "execution_count": null,
   "metadata": {
    "colab": {
     "base_uri": "https://localhost:8080/",
     "height": 206
    },
    "id": "M_F3Tb4YUliY",
    "outputId": "1e14eca5-2843-416b-9f79-05f664ef97a4"
   },
   "outputs": [
    {
     "data": {
      "text/html": [
       "<div>\n",
       "<style scoped>\n",
       "    .dataframe tbody tr th:only-of-type {\n",
       "        vertical-align: middle;\n",
       "    }\n",
       "\n",
       "    .dataframe tbody tr th {\n",
       "        vertical-align: top;\n",
       "    }\n",
       "\n",
       "    .dataframe thead th {\n",
       "        text-align: right;\n",
       "    }\n",
       "</style>\n",
       "<table border=\"1\" class=\"dataframe\">\n",
       "  <thead>\n",
       "    <tr style=\"text-align: right;\">\n",
       "      <th></th>\n",
       "      <th>Id</th>\n",
       "      <th>Subject Focus</th>\n",
       "      <th>Eyes</th>\n",
       "      <th>Face</th>\n",
       "      <th>Near</th>\n",
       "      <th>Action</th>\n",
       "      <th>Accessory</th>\n",
       "      <th>Group</th>\n",
       "      <th>Collage</th>\n",
       "      <th>Human</th>\n",
       "      <th>Occlusion</th>\n",
       "      <th>Info</th>\n",
       "      <th>Blur</th>\n",
       "      <th>Pawpularity</th>\n",
       "    </tr>\n",
       "  </thead>\n",
       "  <tbody>\n",
       "    <tr>\n",
       "      <th>0</th>\n",
       "      <td>0007de18844b0dbbb5e1f607da0606e0</td>\n",
       "      <td>0</td>\n",
       "      <td>1</td>\n",
       "      <td>1</td>\n",
       "      <td>1</td>\n",
       "      <td>0</td>\n",
       "      <td>0</td>\n",
       "      <td>1</td>\n",
       "      <td>0</td>\n",
       "      <td>0</td>\n",
       "      <td>0</td>\n",
       "      <td>0</td>\n",
       "      <td>0</td>\n",
       "      <td>63</td>\n",
       "    </tr>\n",
       "    <tr>\n",
       "      <th>1</th>\n",
       "      <td>0009c66b9439883ba2750fb825e1d7db</td>\n",
       "      <td>0</td>\n",
       "      <td>1</td>\n",
       "      <td>1</td>\n",
       "      <td>0</td>\n",
       "      <td>0</td>\n",
       "      <td>0</td>\n",
       "      <td>0</td>\n",
       "      <td>0</td>\n",
       "      <td>0</td>\n",
       "      <td>0</td>\n",
       "      <td>0</td>\n",
       "      <td>0</td>\n",
       "      <td>42</td>\n",
       "    </tr>\n",
       "    <tr>\n",
       "      <th>2</th>\n",
       "      <td>0013fd999caf9a3efe1352ca1b0d937e</td>\n",
       "      <td>0</td>\n",
       "      <td>1</td>\n",
       "      <td>1</td>\n",
       "      <td>1</td>\n",
       "      <td>0</td>\n",
       "      <td>0</td>\n",
       "      <td>0</td>\n",
       "      <td>0</td>\n",
       "      <td>1</td>\n",
       "      <td>1</td>\n",
       "      <td>0</td>\n",
       "      <td>0</td>\n",
       "      <td>28</td>\n",
       "    </tr>\n",
       "    <tr>\n",
       "      <th>3</th>\n",
       "      <td>0018df346ac9c1d8413cfcc888ca8246</td>\n",
       "      <td>0</td>\n",
       "      <td>1</td>\n",
       "      <td>1</td>\n",
       "      <td>1</td>\n",
       "      <td>0</td>\n",
       "      <td>0</td>\n",
       "      <td>0</td>\n",
       "      <td>0</td>\n",
       "      <td>0</td>\n",
       "      <td>0</td>\n",
       "      <td>0</td>\n",
       "      <td>0</td>\n",
       "      <td>15</td>\n",
       "    </tr>\n",
       "    <tr>\n",
       "      <th>4</th>\n",
       "      <td>001dc955e10590d3ca4673f034feeef2</td>\n",
       "      <td>0</td>\n",
       "      <td>0</td>\n",
       "      <td>0</td>\n",
       "      <td>1</td>\n",
       "      <td>0</td>\n",
       "      <td>0</td>\n",
       "      <td>1</td>\n",
       "      <td>0</td>\n",
       "      <td>0</td>\n",
       "      <td>0</td>\n",
       "      <td>0</td>\n",
       "      <td>0</td>\n",
       "      <td>72</td>\n",
       "    </tr>\n",
       "  </tbody>\n",
       "</table>\n",
       "</div>"
      ],
      "text/plain": [
       "                                 Id  Subject Focus  ...  Blur  Pawpularity\n",
       "0  0007de18844b0dbbb5e1f607da0606e0              0  ...     0           63\n",
       "1  0009c66b9439883ba2750fb825e1d7db              0  ...     0           42\n",
       "2  0013fd999caf9a3efe1352ca1b0d937e              0  ...     0           28\n",
       "3  0018df346ac9c1d8413cfcc888ca8246              0  ...     0           15\n",
       "4  001dc955e10590d3ca4673f034feeef2              0  ...     0           72\n",
       "\n",
       "[5 rows x 14 columns]"
      ]
     },
     "execution_count": 4,
     "metadata": {},
     "output_type": "execute_result"
    }
   ],
   "source": [
    "data.head()"
   ]
  },
  {
   "cell_type": "code",
   "execution_count": null,
   "metadata": {
    "colab": {
     "base_uri": "https://localhost:8080/"
    },
    "id": "zlwp6t6IUnOw",
    "outputId": "cb958cdd-c2d2-4688-81c9-00776a11302d"
   },
   "outputs": [
    {
     "data": {
      "text/plain": [
       "(9912, 14)"
      ]
     },
     "execution_count": 5,
     "metadata": {},
     "output_type": "execute_result"
    }
   ],
   "source": [
    "data.shape"
   ]
  },
  {
   "cell_type": "code",
   "execution_count": null,
   "metadata": {
    "id": "iLZPLuAIUm_s"
   },
   "outputs": [],
   "source": [
    "X= data[data.columns[1:-1]] # other features \n",
    "y= data[\"Pawpularity\"] # Pawpularity"
   ]
  },
  {
   "cell_type": "code",
   "execution_count": null,
   "metadata": {
    "id": "ERSxv4OmUtju"
   },
   "outputs": [],
   "source": [
    "X_train, X_test, y_train, y_test = train_test_split(X, y, test_size=0.10, shuffle=False)"
   ]
  },
  {
   "cell_type": "code",
   "execution_count": null,
   "metadata": {
    "colab": {
     "base_uri": "https://localhost:8080/"
    },
    "id": "1gjdg8OCUyZU",
    "outputId": "ad116085-9cb1-4fdf-be1e-012e1372e7cb"
   },
   "outputs": [
    {
     "data": {
      "text/plain": [
       "((8920, 12), (992, 12))"
      ]
     },
     "execution_count": 8,
     "metadata": {},
     "output_type": "execute_result"
    }
   ],
   "source": [
    "X_train.shape , X_test.shape"
   ]
  },
  {
   "cell_type": "markdown",
   "metadata": {
    "id": "HumO1sBI49u3"
   },
   "source": [
    "# **Machine Learning Models**"
   ]
  },
  {
   "cell_type": "markdown",
   "metadata": {
    "id": "UzB6-04VWKJN"
   },
   "source": [
    "**RandomForest Regressor without RandomSearch**"
   ]
  },
  {
   "cell_type": "code",
   "execution_count": null,
   "metadata": {
    "id": "ZNIyE6WlUXyq"
   },
   "outputs": [],
   "source": [
    "rf = RandomForestRegressor(max_features='sqrt',n_estimators=100, max_depth=5,min_samples_split=4)"
   ]
  },
  {
   "cell_type": "code",
   "execution_count": null,
   "metadata": {
    "colab": {
     "base_uri": "https://localhost:8080/"
    },
    "id": "eThVQajDeyc8",
    "outputId": "54cbd713-3a7a-4326-c6fe-1d43efe208bd"
   },
   "outputs": [
    {
     "data": {
      "text/plain": [
       "RandomForestRegressor(max_depth=5, max_features='sqrt', min_samples_split=4)"
      ]
     },
     "execution_count": 10,
     "metadata": {},
     "output_type": "execute_result"
    }
   ],
   "source": [
    "rf.fit(X_train,y_train)"
   ]
  },
  {
   "cell_type": "code",
   "execution_count": null,
   "metadata": {
    "colab": {
     "base_uri": "https://localhost:8080/"
    },
    "id": "3_nLWTgLfHu2",
    "outputId": "dc8f68d2-1e46-4cd5-f43d-a084b10dc837"
   },
   "outputs": [
    {
     "name": "stdout",
     "output_type": "stream",
     "text": [
      "20.25172489017028\n"
     ]
    }
   ],
   "source": [
    "prediction_rf = rf.predict(X_test)\n",
    "rf_model_RMSE = np.sqrt(mean_squared_error(y_test, prediction_rf))\n",
    "\n",
    "print(rf_model_RMSE)"
   ]
  },
  {
   "cell_type": "markdown",
   "metadata": {
    "id": "ZMdwixh9alK6"
   },
   "source": [
    "**RF with RandomSearchCV**"
   ]
  },
  {
   "cell_type": "code",
   "execution_count": null,
   "metadata": {
    "id": "Dfi2cc1pUarU"
   },
   "outputs": [],
   "source": [
    "# Number of trees in random forest\n",
    "n_estimators = [int(x) for x in np.linspace(start = 100, stop = 1500, num = 15)]\n",
    "\n",
    "\n",
    "# Number of features to consider at every split\n",
    "max_features = ['auto', 'sqrt']\n",
    "\n",
    "\n",
    "# Maximum number of levels in tree\n",
    "max_depth = [int(x) for x in np.linspace(5, 30, num = 6)]\n",
    " \n",
    "# Minimum number of samples required to split a node\n",
    "min_samples_split = [5, 10 , 15, 20 , 25]\n",
    "\n",
    "\n",
    "# Minimum number of samples required at each leaf node\n",
    "min_samples_leaf = [5, 10, 15]"
   ]
  },
  {
   "cell_type": "code",
   "execution_count": null,
   "metadata": {
    "colab": {
     "base_uri": "https://localhost:8080/"
    },
    "id": "0k8VmNLyUdwL",
    "outputId": "5b570c69-68f9-43a3-b6b9-cdaef2ec74fb"
   },
   "outputs": [
    {
     "name": "stdout",
     "output_type": "stream",
     "text": [
      "{'n_estimators': [100, 200, 300, 400, 500, 600, 700, 800, 900, 1000, 1100, 1200, 1300, 1400, 1500], 'max_features': ['auto', 'sqrt'], 'max_depth': [5, 10, 15, 20, 25, 30], 'min_samples_split': [5, 10, 15, 20, 25], 'min_samples_leaf': [5, 10, 15]}\n"
     ]
    }
   ],
   "source": [
    "# Create the random grid\n",
    "random_grid = {'n_estimators': n_estimators,\n",
    "               'max_features': max_features,\n",
    "               'max_depth': max_depth,\n",
    "               'min_samples_split': min_samples_split,\n",
    "               'min_samples_leaf': min_samples_leaf}\n",
    "\n",
    "print(random_grid)"
   ]
  },
  {
   "cell_type": "code",
   "execution_count": null,
   "metadata": {
    "id": "Rl_HFNepVCMS"
   },
   "outputs": [],
   "source": [
    "# Random search of parameters, using 5 fold cross validation, \n",
    " \n",
    "rf_random = RandomizedSearchCV(estimator = rf, \n",
    "                               param_distributions = random_grid, # Dictionary with parameters names (str) as keys and distributions or lists of parameters to try\n",
    "                               scoring='neg_mean_squared_error', #  to evaluate the performance of the cross-validated model on the test set.\n",
    "                               n_iter = 10, \n",
    "                               cv = 4, \n",
    "                               refit = True, # Refit an estimator using the best found parameters on the whole dataset.\n",
    "                               verbose=2, \n",
    "                               random_state=42, \n",
    "                               n_jobs = -1 # Number of jobs to run in parallel. -1 means using all processors \n",
    "                              )"
   ]
  },
  {
   "cell_type": "code",
   "execution_count": null,
   "metadata": {
    "colab": {
     "base_uri": "https://localhost:8080/"
    },
    "id": "hTw0bkuYUgTu",
    "outputId": "5381a926-09e2-494b-ecfa-66c6cfdfa7ea"
   },
   "outputs": [
    {
     "name": "stdout",
     "output_type": "stream",
     "text": [
      "Fitting 4 folds for each of 10 candidates, totalling 40 fits\n"
     ]
    },
    {
     "data": {
      "text/plain": [
       "RandomizedSearchCV(cv=4,\n",
       "                   estimator=RandomForestRegressor(max_depth=5,\n",
       "                                                   max_features='sqrt',\n",
       "                                                   min_samples_split=4),\n",
       "                   n_jobs=-1,\n",
       "                   param_distributions={'max_depth': [5, 10, 15, 20, 25, 30],\n",
       "                                        'max_features': ['auto', 'sqrt'],\n",
       "                                        'min_samples_leaf': [5, 10, 15],\n",
       "                                        'min_samples_split': [5, 10, 15, 20,\n",
       "                                                              25],\n",
       "                                        'n_estimators': [100, 200, 300, 400,\n",
       "                                                         500, 600, 700, 800,\n",
       "                                                         900, 1000, 1100, 1200,\n",
       "                                                         1300, 1400, 1500]},\n",
       "                   random_state=42, scoring='neg_mean_squared_error',\n",
       "                   verbose=2)"
      ]
     },
     "execution_count": 64,
     "metadata": {},
     "output_type": "execute_result"
    }
   ],
   "source": [
    "\n",
    "rf_random.fit(X_train,y_train)"
   ]
  },
  {
   "cell_type": "code",
   "execution_count": null,
   "metadata": {
    "colab": {
     "base_uri": "https://localhost:8080/"
    },
    "id": "wj96W6JTU-E9",
    "outputId": "afbbc8a5-ec78-4932-8157-dbc03bf8b77f"
   },
   "outputs": [
    {
     "data": {
      "text/plain": [
       "{'max_depth': 5,\n",
       " 'max_features': 'sqrt',\n",
       " 'min_samples_leaf': 10,\n",
       " 'min_samples_split': 15,\n",
       " 'n_estimators': 100}"
      ]
     },
     "execution_count": 65,
     "metadata": {},
     "output_type": "execute_result"
    }
   ],
   "source": [
    "# Best parameters choosen \n",
    "\n",
    "rf_random.best_params_"
   ]
  },
  {
   "cell_type": "code",
   "execution_count": null,
   "metadata": {
    "colab": {
     "base_uri": "https://localhost:8080/"
    },
    "id": "BoEMIYuOVnUc",
    "outputId": "41f37c76-00d6-4c78-fa87-35e9f0f7e1bc"
   },
   "outputs": [
    {
     "data": {
      "text/plain": [
       "-425.2721426274963"
      ]
     },
     "execution_count": 66,
     "metadata": {},
     "output_type": "execute_result"
    }
   ],
   "source": [
    "# Get best score ( neg_mean_squared_error )\n",
    "\n",
    "rf_random.best_score_ "
   ]
  },
  {
   "cell_type": "code",
   "execution_count": null,
   "metadata": {
    "colab": {
     "base_uri": "https://localhost:8080/"
    },
    "id": "jTwhUae0Vqm3",
    "outputId": "c1a0fdc3-0f26-40f4-dede-ac38e65dad3b"
   },
   "outputs": [
    {
     "name": "stdout",
     "output_type": "stream",
     "text": [
      "20.25923642483292\n"
     ]
    }
   ],
   "source": [
    "predictions_X_test_rf = rf_random.predict(X_test)\n",
    "RMSE_model1_RfR = np.sqrt(mean_squared_error(y_test, predictions_X_test_rf))\n",
    "\n",
    "print(RMSE_model1_RfR)"
   ]
  },
  {
   "cell_type": "markdown",
   "metadata": {
    "id": "aVZrUoq7WWpk"
   },
   "source": [
    "**Linear Regression**"
   ]
  },
  {
   "cell_type": "code",
   "execution_count": null,
   "metadata": {
    "id": "1apEEhfDWhmF"
   },
   "outputs": [],
   "source": [
    "from sklearn.linear_model import LinearRegression as lin"
   ]
  },
  {
   "cell_type": "code",
   "execution_count": null,
   "metadata": {
    "id": "YO4Gzg1bVuy3"
   },
   "outputs": [],
   "source": [
    "lin_reg = lin(normalize=True,fit_intercept=True)"
   ]
  },
  {
   "cell_type": "code",
   "execution_count": null,
   "metadata": {
    "colab": {
     "base_uri": "https://localhost:8080/"
    },
    "id": "C8Yi8f4hWsxS",
    "outputId": "e82abfb0-05ef-4af5-8a64-9d78b21f138e"
   },
   "outputs": [
    {
     "data": {
      "text/plain": [
       "LinearRegression(normalize=True)"
      ]
     },
     "execution_count": 21,
     "metadata": {},
     "output_type": "execute_result"
    }
   ],
   "source": [
    "lin_reg.fit(X_train,y_train)"
   ]
  },
  {
   "cell_type": "code",
   "execution_count": null,
   "metadata": {
    "colab": {
     "base_uri": "https://localhost:8080/"
    },
    "id": "GyAoGQ2bW-MC",
    "outputId": "a72c0e09-ae1a-4711-cb1a-c733e3d8e06e"
   },
   "outputs": [
    {
     "name": "stdout",
     "output_type": "stream",
     "text": [
      "20.297186404781844\n"
     ]
    }
   ],
   "source": [
    "predictions_X_test_lin_reg = lin_reg.predict(X_test)\n",
    "lin_reg_model_RMSE = np.sqrt(mean_squared_error(y_test, predictions_X_test_lin_reg))\n",
    "\n",
    "print(lin_reg_model_RMSE)"
   ]
  },
  {
   "cell_type": "markdown",
   "metadata": {
    "id": "8kJ64RcjXp3k"
   },
   "source": [
    "**Support Vector Regressor with RandomSearchCV**"
   ]
  },
  {
   "cell_type": "code",
   "execution_count": null,
   "metadata": {
    "id": "Peh6tCVKYM4e"
   },
   "outputs": [],
   "source": [
    "from sklearn.svm import SVR\n",
    "from sklearn.model_selection import RandomizedSearchCV as rscv"
   ]
  },
  {
   "cell_type": "code",
   "execution_count": null,
   "metadata": {
    "id": "amtPguVuXl0H"
   },
   "outputs": [],
   "source": [
    "svm = SVR()"
   ]
  },
  {
   "cell_type": "code",
   "execution_count": null,
   "metadata": {
    "colab": {
     "base_uri": "https://localhost:8080/"
    },
    "id": "WHorAGaZYMZD",
    "outputId": "1f1c7d60-fce8-41f3-bd28-19265ffd658f"
   },
   "outputs": [
    {
     "name": "stdout",
     "output_type": "stream",
     "text": [
      "Fitting 3 folds for each of 40 candidates, totalling 120 fits\n"
     ]
    },
    {
     "data": {
      "text/plain": [
       "RandomizedSearchCV(cv=3, estimator=SVR(), n_iter=40, n_jobs=-1,\n",
       "                   param_distributions={'C': [0.01, 0.1, 1, 10],\n",
       "                                        'epsilon': [0.01, 0.1, 1],\n",
       "                                        'gamma': [0.01, 0.1, 1],\n",
       "                                        'kernel': ['poly', 'sigmoid', 'rbf'],\n",
       "                                        'shrinking': [True, False]},\n",
       "                   return_train_score=True, scoring='neg_mean_squared_error',\n",
       "                   verbose=1)"
      ]
     },
     "execution_count": 57,
     "metadata": {},
     "output_type": "execute_result"
    }
   ],
   "source": [
    "kernel = ['poly','sigmoid','rbf']\n",
    "c = [0.01,0.1,1,10]\n",
    "gamma = [0.01,0.1,1]\n",
    "epsilon = [0.01,0.1,1]\n",
    "shrinking = [True,False]\n",
    "svm_grid = {'kernel':kernel,'C':c,'gamma':gamma,'epsilon':epsilon,'shrinking':shrinking}\n",
    "svm_search = rscv(svm,svm_grid,scoring='neg_mean_squared_error',cv=3,return_train_score=True,n_jobs=-1,n_iter=40,verbose=1)\n",
    "svm_search.fit(X_train,y_train)"
   ]
  },
  {
   "cell_type": "code",
   "execution_count": null,
   "metadata": {
    "colab": {
     "base_uri": "https://localhost:8080/"
    },
    "id": "HWli3NTVYUNZ",
    "outputId": "503f9b35-fbb9-48de-ee27-17c0642c48f4"
   },
   "outputs": [
    {
     "data": {
      "text/plain": [
       "{'C': 10, 'epsilon': 1, 'gamma': 0.01, 'kernel': 'sigmoid', 'shrinking': False}"
      ]
     },
     "execution_count": 58,
     "metadata": {},
     "output_type": "execute_result"
    }
   ],
   "source": [
    "svm_search.best_params_"
   ]
  },
  {
   "cell_type": "code",
   "execution_count": null,
   "metadata": {
    "id": "vkUIPQSnYX1t"
   },
   "outputs": [],
   "source": [
    "svm_confirmed = svm_search.best_estimator_\n",
    "svm_pred = svm_confirmed.predict(X_test)"
   ]
  },
  {
   "cell_type": "code",
   "execution_count": null,
   "metadata": {
    "colab": {
     "base_uri": "https://localhost:8080/"
    },
    "id": "ccArmfRFaf46",
    "outputId": "2b6a6a50-de18-49f9-85be-8a7e44d15f28"
   },
   "outputs": [
    {
     "name": "stdout",
     "output_type": "stream",
     "text": [
      "20.817459989316166\n"
     ]
    }
   ],
   "source": [
    "SVR_model_RMSE = np.sqrt(mean_squared_error(y_test, svm_pred))\n",
    "\n",
    "print(SVR_model_RMSE)"
   ]
  },
  {
   "cell_type": "markdown",
   "metadata": {
    "id": "XgtLmxU2bwt4"
   },
   "source": [
    "**LassoLARS**"
   ]
  },
  {
   "cell_type": "code",
   "execution_count": null,
   "metadata": {
    "id": "CVkjB9AvbWPL"
   },
   "outputs": [],
   "source": [
    "from sklearn.linear_model import LassoLars as las"
   ]
  },
  {
   "cell_type": "code",
   "execution_count": null,
   "metadata": {
    "id": "0ymIdEKpb1zC"
   },
   "outputs": [],
   "source": [
    "laso_model = las(normalize=True,fit_intercept=True)\n",
    "laso_model.fit(X_train,y_train)\n",
    "laso_pred = laso_model.predict(X_test)\n"
   ]
  },
  {
   "cell_type": "code",
   "execution_count": null,
   "metadata": {
    "colab": {
     "base_uri": "https://localhost:8080/"
    },
    "id": "8CqGdHWKcoGE",
    "outputId": "9aba694f-8fa7-484e-df4b-a5b92109fe91"
   },
   "outputs": [
    {
     "name": "stdout",
     "output_type": "stream",
     "text": [
      "20.27801860667925\n"
     ]
    }
   ],
   "source": [
    "lasso_model_RMSE = np.sqrt(mean_squared_error(y_test, laso_pred))\n",
    "\n",
    "print(lasso_model_RMSE)"
   ]
  },
  {
   "cell_type": "markdown",
   "metadata": {
    "id": "4-wIXLc9dJC8"
   },
   "source": [
    "**Bayesian Ridge**"
   ]
  },
  {
   "cell_type": "code",
   "execution_count": null,
   "metadata": {
    "id": "tYY4Emibcuyn"
   },
   "outputs": [],
   "source": [
    "from sklearn.linear_model import BayesianRidge as br"
   ]
  },
  {
   "cell_type": "code",
   "execution_count": null,
   "metadata": {
    "id": "EdIrjZendMwl"
   },
   "outputs": [],
   "source": [
    "br_model = br(normalize=True,alpha_init=0.01)\n",
    "br_model.fit(X_train,y_train)\n",
    "br_pred = br_model.predict(X_test)"
   ]
  },
  {
   "cell_type": "code",
   "execution_count": null,
   "metadata": {
    "colab": {
     "base_uri": "https://localhost:8080/"
    },
    "id": "iaUztUR9da5F",
    "outputId": "be93780b-80b8-488b-ced3-ec7b95b53a2e"
   },
   "outputs": [
    {
     "name": "stdout",
     "output_type": "stream",
     "text": [
      "20.280401677821775\n"
     ]
    }
   ],
   "source": [
    "br_model_RMSE = np.sqrt(mean_squared_error(y_test, br_pred))\n",
    "\n",
    "print(br_model_RMSE)"
   ]
  },
  {
   "cell_type": "markdown",
   "metadata": {
    "id": "rQdTywcBYrfm"
   },
   "source": [
    "**SVR Random Hyperparameters**"
   ]
  },
  {
   "cell_type": "code",
   "execution_count": null,
   "metadata": {
    "id": "8HGZW4rBdmrY"
   },
   "outputs": [],
   "source": [
    "svr_model = SVR(C=100,epsilon=0.001, gamma=0.01, kernel='rbf', coef0=100 )"
   ]
  },
  {
   "cell_type": "code",
   "execution_count": null,
   "metadata": {
    "id": "EMEMCUi9SqAk"
   },
   "outputs": [],
   "source": [
    "svr_model.fit(X_train,y_train)\n",
    "svr_pred = svr_model.predict(X_test)"
   ]
  },
  {
   "cell_type": "code",
   "execution_count": null,
   "metadata": {
    "colab": {
     "base_uri": "https://localhost:8080/"
    },
    "id": "3HvZ51azeFeY",
    "outputId": "17d13452-28e1-43c9-f8e5-385c08f8c8df"
   },
   "outputs": [
    {
     "name": "stdout",
     "output_type": "stream",
     "text": [
      "20.79487582280616\n"
     ]
    }
   ],
   "source": [
    "SVR2_model_RMSE = np.sqrt(mean_squared_error(y_test, svr_pred))\n",
    "\n",
    "print(SVR2_model_RMSE)"
   ]
  },
  {
   "cell_type": "markdown",
   "metadata": {
    "id": "DsFxpCi5glDh"
   },
   "source": [
    "**Decision Tree Regressor**"
   ]
  },
  {
   "cell_type": "code",
   "execution_count": null,
   "metadata": {
    "id": "qEJSBZIUgy9t"
   },
   "outputs": [],
   "source": [
    "from sklearn import tree"
   ]
  },
  {
   "cell_type": "code",
   "execution_count": null,
   "metadata": {
    "id": "4mk1_EcdeOsS"
   },
   "outputs": [],
   "source": [
    "clf = tree.DecisionTreeRegressor(max_depth=2)\n",
    "clf = clf.fit(X_train, y_train)\n",
    "dtr_pred = clf.predict(X_test)\n"
   ]
  },
  {
   "cell_type": "code",
   "execution_count": null,
   "metadata": {
    "colab": {
     "base_uri": "https://localhost:8080/"
    },
    "id": "5kVQ1FMkhHo5",
    "outputId": "314e68f6-c469-45bb-ddc9-d714a8a73311"
   },
   "outputs": [
    {
     "name": "stdout",
     "output_type": "stream",
     "text": [
      "20.277137865860233\n"
     ]
    }
   ],
   "source": [
    "dtr_model_RMSE = np.sqrt(mean_squared_error(y_test, dtr_pred))\n",
    "\n",
    "print(dtr_model_RMSE)"
   ]
  },
  {
   "cell_type": "markdown",
   "metadata": {
    "id": "uRTN9WRE-Vkb"
   },
   "source": [
    "# **Feature Selection**"
   ]
  },
  {
   "cell_type": "code",
   "execution_count": null,
   "metadata": {
    "id": "SFC_BIm3-dZ_"
   },
   "outputs": [],
   "source": [
    "#Import Libraries\n",
    "\n",
    "#feature selection\n",
    "from sklearn.feature_selection import SelectKBest\n",
    "from sklearn.feature_selection import chi2\n"
   ]
  },
  {
   "cell_type": "markdown",
   "metadata": {
    "id": "rallZsUv52Wj"
   },
   "source": [
    "**Selecting the best 5 Features**"
   ]
  },
  {
   "cell_type": "code",
   "execution_count": null,
   "metadata": {
    "colab": {
     "base_uri": "https://localhost:8080/"
    },
    "id": "VvcDQqqNjmci",
    "outputId": "a40dd2b9-8e0d-4584-dd82-f67b30e0c032"
   },
   "outputs": [
    {
     "name": "stdout",
     "output_type": "stream",
     "text": [
      "      feature       Score\n",
      "4      Action  110.521692\n",
      "10       Info  110.037115\n",
      "6       Group  107.661366\n",
      "9   Occlusion  106.320074\n",
      "7     Collage   98.043067\n"
     ]
    }
   ],
   "source": [
    "\n",
    "bestfeatures = SelectKBest(score_func=chi2, k='all')\n",
    "fit=bestfeatures.fit(X_train,y_train)\n",
    "dfscores = pd.DataFrame(fit.scores_)\n",
    "dfcolumns = pd.DataFrame(X.columns)\n",
    "featureScores = pd.concat([dfcolumns,dfscores],axis=1)\n",
    "featureScores.columns = ['feature','Score']\n",
    "print(featureScores.nlargest(5,'Score')) "
   ]
  },
  {
   "cell_type": "code",
   "execution_count": null,
   "metadata": {
    "colab": {
     "base_uri": "https://localhost:8080/"
    },
    "id": "uIBVzYcFleCZ",
    "outputId": "795f6b4b-3117-42a1-e50d-dec2077b57f5"
   },
   "outputs": [
    {
     "data": {
      "text/plain": [
       "Index(['Id', 'Subject Focus', 'Eyes', 'Face', 'Near', 'Action', 'Accessory',\n",
       "       'Group', 'Collage', 'Human', 'Occlusion', 'Info', 'Blur',\n",
       "       'Pawpularity'],\n",
       "      dtype='object')"
      ]
     },
     "execution_count": 41,
     "metadata": {},
     "output_type": "execute_result"
    }
   ],
   "source": [
    "data.columns"
   ]
  },
  {
   "cell_type": "markdown",
   "metadata": {
    "id": "gkwrsOOP6CyD"
   },
   "source": [
    "**Dropping Least Scored Features**"
   ]
  },
  {
   "cell_type": "code",
   "execution_count": null,
   "metadata": {
    "id": "CrovY91SmCNB"
   },
   "outputs": [],
   "source": [
    "df = data.drop(columns=['Id','Eyes','Face','Near','Accessory','Human','Subject Focus','Blur']) "
   ]
  },
  {
   "cell_type": "code",
   "execution_count": null,
   "metadata": {
    "colab": {
     "base_uri": "https://localhost:8080/",
     "height": 206
    },
    "id": "OR84SI1rn-Mj",
    "outputId": "25104a65-0a7c-4fa5-cd47-9f52f9769e91"
   },
   "outputs": [
    {
     "data": {
      "text/html": [
       "<div>\n",
       "<style scoped>\n",
       "    .dataframe tbody tr th:only-of-type {\n",
       "        vertical-align: middle;\n",
       "    }\n",
       "\n",
       "    .dataframe tbody tr th {\n",
       "        vertical-align: top;\n",
       "    }\n",
       "\n",
       "    .dataframe thead th {\n",
       "        text-align: right;\n",
       "    }\n",
       "</style>\n",
       "<table border=\"1\" class=\"dataframe\">\n",
       "  <thead>\n",
       "    <tr style=\"text-align: right;\">\n",
       "      <th></th>\n",
       "      <th>Action</th>\n",
       "      <th>Group</th>\n",
       "      <th>Collage</th>\n",
       "      <th>Occlusion</th>\n",
       "      <th>Info</th>\n",
       "      <th>Pawpularity</th>\n",
       "    </tr>\n",
       "  </thead>\n",
       "  <tbody>\n",
       "    <tr>\n",
       "      <th>0</th>\n",
       "      <td>0</td>\n",
       "      <td>1</td>\n",
       "      <td>0</td>\n",
       "      <td>0</td>\n",
       "      <td>0</td>\n",
       "      <td>63</td>\n",
       "    </tr>\n",
       "    <tr>\n",
       "      <th>1</th>\n",
       "      <td>0</td>\n",
       "      <td>0</td>\n",
       "      <td>0</td>\n",
       "      <td>0</td>\n",
       "      <td>0</td>\n",
       "      <td>42</td>\n",
       "    </tr>\n",
       "    <tr>\n",
       "      <th>2</th>\n",
       "      <td>0</td>\n",
       "      <td>0</td>\n",
       "      <td>0</td>\n",
       "      <td>1</td>\n",
       "      <td>0</td>\n",
       "      <td>28</td>\n",
       "    </tr>\n",
       "    <tr>\n",
       "      <th>3</th>\n",
       "      <td>0</td>\n",
       "      <td>0</td>\n",
       "      <td>0</td>\n",
       "      <td>0</td>\n",
       "      <td>0</td>\n",
       "      <td>15</td>\n",
       "    </tr>\n",
       "    <tr>\n",
       "      <th>4</th>\n",
       "      <td>0</td>\n",
       "      <td>1</td>\n",
       "      <td>0</td>\n",
       "      <td>0</td>\n",
       "      <td>0</td>\n",
       "      <td>72</td>\n",
       "    </tr>\n",
       "  </tbody>\n",
       "</table>\n",
       "</div>"
      ],
      "text/plain": [
       "   Action  Group  Collage  Occlusion  Info  Pawpularity\n",
       "0       0      1        0          0     0           63\n",
       "1       0      0        0          0     0           42\n",
       "2       0      0        0          1     0           28\n",
       "3       0      0        0          0     0           15\n",
       "4       0      1        0          0     0           72"
      ]
     },
     "execution_count": 43,
     "metadata": {},
     "output_type": "execute_result"
    }
   ],
   "source": [
    "\n",
    "df.head()"
   ]
  },
  {
   "cell_type": "code",
   "execution_count": null,
   "metadata": {
    "colab": {
     "base_uri": "https://localhost:8080/"
    },
    "id": "qau89hvnoAhZ",
    "outputId": "cc83e6cd-4874-4ccb-8301-08ec80e1dd76"
   },
   "outputs": [
    {
     "data": {
      "text/plain": [
       "(9912, 6)"
      ]
     },
     "execution_count": 44,
     "metadata": {},
     "output_type": "execute_result"
    }
   ],
   "source": [
    "df.shape"
   ]
  },
  {
   "cell_type": "code",
   "execution_count": null,
   "metadata": {
    "id": "ZEBa75eSoDIO"
   },
   "outputs": [],
   "source": [
    "xf = df[df.columns[:-1]]\n",
    "yf = df['Pawpularity']"
   ]
  },
  {
   "cell_type": "code",
   "execution_count": null,
   "metadata": {
    "id": "fdslxaF1op8a"
   },
   "outputs": [],
   "source": [
    "Xf_train, Xf_test, yf_train, yf_test = train_test_split(xf, yf, test_size=0.10)"
   ]
  },
  {
   "cell_type": "markdown",
   "metadata": {
    "id": "AF88PTJc6JCj"
   },
   "source": [
    "# **Implementation of Models with Selected Features Dataset**"
   ]
  },
  {
   "cell_type": "markdown",
   "metadata": {
    "id": "JSSMPlUQpC5k"
   },
   "source": [
    "**Linear Regression with Feature Selection**"
   ]
  },
  {
   "cell_type": "code",
   "execution_count": null,
   "metadata": {
    "id": "8OivA8Iso3S-"
   },
   "outputs": [],
   "source": [
    "\n",
    "lin_reg.fit(Xf_train,yf_train)\n",
    "lin_fs_pred = lin_reg.predict(Xf_test)"
   ]
  },
  {
   "cell_type": "code",
   "execution_count": null,
   "metadata": {
    "colab": {
     "base_uri": "https://localhost:8080/"
    },
    "id": "lFImWq34pflR",
    "outputId": "44e6fa98-ce22-45b4-e034-e4c598e0b581"
   },
   "outputs": [
    {
     "name": "stdout",
     "output_type": "stream",
     "text": [
      "19.62682519268789\n"
     ]
    }
   ],
   "source": [
    "lin_fs_RMSE = np.sqrt(mean_squared_error(yf_test, lin_fs_pred))\n",
    "\n",
    "print(lin_fs_RMSE)"
   ]
  },
  {
   "cell_type": "markdown",
   "metadata": {
    "id": "h3NsaKjtlzKp"
   },
   "source": [
    "**Decision Tree with Feature Selection**"
   ]
  },
  {
   "cell_type": "code",
   "execution_count": null,
   "metadata": {
    "id": "LhkUd-8ApynF"
   },
   "outputs": [],
   "source": [
    "\n",
    "dtr_model = dtr.fit(Xf_train, yf_train)\n",
    "dtrf2_pred = dtr.predict(Xf_test)"
   ]
  },
  {
   "cell_type": "code",
   "execution_count": null,
   "metadata": {
    "colab": {
     "base_uri": "https://localhost:8080/"
    },
    "id": "7TTKsGYyq0Gi",
    "outputId": "746d86f8-ce0c-47f1-9b48-be0067555bc5"
   },
   "outputs": [
    {
     "name": "stdout",
     "output_type": "stream",
     "text": [
      "19.620032780995736\n"
     ]
    }
   ],
   "source": [
    "dtrf2_model_RMSE = np.sqrt(mean_squared_error(yf_test, dtrf2_pred))\n",
    "\n",
    "print(dtrf2_model_RMSE)"
   ]
  },
  {
   "cell_type": "markdown",
   "metadata": {
    "id": "DczkqGbsl4lI"
   },
   "source": [
    "**SVR with Feature Selection**"
   ]
  },
  {
   "cell_type": "code",
   "execution_count": null,
   "metadata": {
    "id": "pHmQ4mHkrCJP"
   },
   "outputs": [],
   "source": [
    "\n",
    "svr_model.fit(Xf_train,yf_train)\n",
    "svr_pred = svr_model.predict(Xf_test)"
   ]
  },
  {
   "cell_type": "code",
   "execution_count": null,
   "metadata": {
    "colab": {
     "base_uri": "https://localhost:8080/"
    },
    "id": "otO1I0WvSydr",
    "outputId": "8b9b83d8-355e-4b9b-9f92-b57e7aac302a"
   },
   "outputs": [
    {
     "name": "stdout",
     "output_type": "stream",
     "text": [
      "19.98880872301359\n"
     ]
    }
   ],
   "source": [
    "SVR2_model_RMSE = np.sqrt(mean_squared_error(yf_test, svr_pred))\n",
    "\n",
    "print(SVR2_model_RMSE)"
   ]
  },
  {
   "cell_type": "markdown",
   "metadata": {
    "id": "Hrb3VgHol-PS"
   },
   "source": [
    "**LassoLARS with Feature Selection**"
   ]
  },
  {
   "cell_type": "code",
   "execution_count": null,
   "metadata": {
    "id": "Re6R-4S1S6BV"
   },
   "outputs": [],
   "source": [
    "\n",
    "laso_model.fit(Xf_train,yf_train)\n",
    "laso_pred = laso_model.predict(Xf_test)"
   ]
  },
  {
   "cell_type": "code",
   "execution_count": null,
   "metadata": {
    "colab": {
     "base_uri": "https://localhost:8080/"
    },
    "id": "y_2tBQJJTDUi",
    "outputId": "c3763ecb-d575-4655-9582-170e4311c1dc"
   },
   "outputs": [
    {
     "name": "stdout",
     "output_type": "stream",
     "text": [
      "19.626318348582824\n"
     ]
    }
   ],
   "source": [
    "lasso_model_RMSE = np.sqrt(mean_squared_error(yf_test, laso_pred))\n",
    "\n",
    "print(lasso_model_RMSE)"
   ]
  },
  {
   "cell_type": "markdown",
   "metadata": {
    "id": "V8pDhlRbmHL6"
   },
   "source": [
    "**Random Forest with Feature Selection**"
   ]
  },
  {
   "cell_type": "code",
   "execution_count": null,
   "metadata": {
    "colab": {
     "base_uri": "https://localhost:8080/"
    },
    "id": "RpXZ8tqdTIzI",
    "outputId": "6fd3b820-6cec-4fc9-abcc-111b97e7caed"
   },
   "outputs": [
    {
     "data": {
      "text/plain": [
       "RandomForestRegressor(max_depth=5, max_features='sqrt', min_samples_split=4)"
      ]
     },
     "execution_count": 55,
     "metadata": {},
     "output_type": "execute_result"
    }
   ],
   "source": [
    "\n",
    "rf.fit(Xf_train,yf_train)"
   ]
  },
  {
   "cell_type": "code",
   "execution_count": null,
   "metadata": {
    "colab": {
     "base_uri": "https://localhost:8080/"
    },
    "id": "O6x_Rc5QTT6s",
    "outputId": "c304f2a2-4f53-4ea8-f446-f1e7770c4fb8"
   },
   "outputs": [
    {
     "name": "stdout",
     "output_type": "stream",
     "text": [
      "19.63409012505495\n"
     ]
    }
   ],
   "source": [
    "prediction_rf = rf.predict(Xf_test)\n",
    "rf_model_RMSE = np.sqrt(mean_squared_error(yf_test, prediction_rf))\n",
    "\n",
    "print(rf_model_RMSE)"
   ]
  },
  {
   "cell_type": "code",
   "execution_count": null,
   "metadata": {
    "id": "qgZEWnmrTavy"
   },
   "outputs": [],
   "source": []
  }
 ],
 "metadata": {
  "colab": {
   "collapsed_sections": [],
   "name": "DM-I Pawpularity Score Prediction with MetaData (Team 9).ipynb",
   "provenance": []
  },
  "kernelspec": {
   "display_name": "Python 3",
   "language": "python",
   "name": "python3"
  },
  "language_info": {
   "codemirror_mode": {
    "name": "ipython",
    "version": 3
   },
   "file_extension": ".py",
   "mimetype": "text/x-python",
   "name": "python",
   "nbconvert_exporter": "python",
   "pygments_lexer": "ipython3",
   "version": "3.7.1"
  }
 },
 "nbformat": 4,
 "nbformat_minor": 1
}
